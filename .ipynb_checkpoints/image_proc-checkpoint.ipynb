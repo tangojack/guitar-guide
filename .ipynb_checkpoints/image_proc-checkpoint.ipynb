{
 "cells": [
  {
   "cell_type": "code",
   "execution_count": null,
   "metadata": {},
   "outputs": [],
   "source": [
    "from matplotlib import pyplot as plt\n",
    "import cv2\n",
    "import numpy as np\n",
    "\n",
    "# Create a VideoCapture object and read from input file\n",
    "# If the input is the camera, pass 0 instead of the video file name\n",
    "cam = cv2.VideoCapture(0)\n",
    "\n",
    "while True:\n",
    "\n",
    "    # Capture frame-by-frame. If the frame is read correctly, then ret is true\n",
    "    ret, frame = cam.read()\n",
    "    frame = cv2.resize(frame, (640, 480))\n",
    "    plt.imshow(hough_2)\n",
    "    plt.show\n",
    "\n",
    "    \n",
    "    \n",
    "    if not ret:\n",
    "        cv2.imshow(\"Video\", frame)\n",
    "        continue\n",
    "\n",
    "    key_input = cv2.waitKey(1)\n",
    "    \n",
    "    if key_input % 256 == 27:\n",
    "        # ESC pressed\n",
    "        print(\"Escape hit, closing...\")\n",
    "        break\n",
    "\n",
    "\n",
    "cam.release()\n",
    "cv2.destroyAllWindows()\n"
   ]
  },
  {
   "cell_type": "code",
   "execution_count": null,
   "metadata": {},
   "outputs": [],
   "source": [
    "median_gradient = np.median(gradients)"
   ]
  },
  {
   "cell_type": "code",
   "execution_count": null,
   "metadata": {},
   "outputs": [],
   "source": [
    "gradients"
   ]
  },
  {
   "cell_type": "code",
   "execution_count": null,
   "metadata": {},
   "outputs": [],
   "source": [
    "lines_filtered = []\n",
    "\n",
    "for i in range(len(lines)):\n",
    "    if gradients[i] < (1.1 * median_gradient) or gradients[i] > (0.9 * median_gradient):\n",
    "        lines_filtered.append(lines[i])\n",
    "\n",
    "hough_2 = img\n",
    "for line in lines_filtered:\n",
    "    x1, y1, x2, y2 = line[0]\n",
    "    cv2.line(hough_2, (x1, y1), (x2, y2), (0, 255, 0), 3)\n",
    "\n",
    "cv2.imshow(\"Hough2\", hough_2)\n",
    "plt.imshow(hough_2)\n",
    "plt.show"
   ]
  },
  {
   "cell_type": "code",
   "execution_count": null,
   "metadata": {},
   "outputs": [],
   "source": [
    "len(lines_filtered)"
   ]
  },
  {
   "cell_type": "code",
   "execution_count": null,
   "metadata": {},
   "outputs": [],
   "source": []
  }
 ],
 "metadata": {
  "kernelspec": {
   "display_name": "Python (music)",
   "language": "python",
   "name": "music"
  },
  "language_info": {
   "codemirror_mode": {
    "name": "ipython",
    "version": 3
   },
   "file_extension": ".py",
   "mimetype": "text/x-python",
   "name": "python",
   "nbconvert_exporter": "python",
   "pygments_lexer": "ipython3",
   "version": "3.6.6"
  }
 },
 "nbformat": 4,
 "nbformat_minor": 2
}
