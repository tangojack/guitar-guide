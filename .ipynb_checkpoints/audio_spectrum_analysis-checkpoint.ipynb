{
 "cells": [
  {
   "cell_type": "code",
   "execution_count": 12,
   "metadata": {},
   "outputs": [],
   "source": [
    "import pyaudio\n",
    "import struct #converts binary strings to integers\n",
    "import matplotlib.pyplot as plt\n",
    "import numpy as np\n",
    "from aubio import pitch\n",
    "from math import log2, pow\n",
    "\n",
    "#inline backend to display matplotlib plots on new screen\n",
    "%matplotlib inline"
   ]
  },
  {
   "cell_type": "code",
   "execution_count": 13,
   "metadata": {},
   "outputs": [],
   "source": [
    "CHUNK = 1024\n",
    "FORMAT = pyaudio.paInt16\n",
    "CHANNELS = 1\n",
    "RATE = 44100\n",
    "RECORD_SECONDS = 5"
   ]
  },
  {
   "cell_type": "code",
   "execution_count": 14,
   "metadata": {},
   "outputs": [],
   "source": [
    "A4 = 440\n",
    "C0 = A4 * pow(2, -4.75)\n",
    "name = [\"C\", \"C#\", \"D\", \"D#\", \"E\", \"F\", \"F#\", \"G\", \"G#\", \"A\", \"A#\", \"B\"]\n",
    "\n",
    "def pitch_to_note(freq):\n",
    "    h = round(12 * log2(freq / C0))\n",
    "    octave = int(h // 12)\n",
    "    n = int(h % 12)\n",
    "    return name[n] + str(octave)"
   ]
  },
  {
   "cell_type": "code",
   "execution_count": 21,
   "metadata": {
    "scrolled": true
   },
   "outputs": [
    {
     "name": "stdout",
     "output_type": "stream",
     "text": [
      "* recording\n",
      "Onset Detected\n",
      "Frequency:  113.76176\n",
      "A#2\n",
      "Onset Detected\n",
      "Frequency:  114.043\n",
      "A#2\n",
      "Onset Detected\n",
      "Frequency:  145.6558\n",
      "D3\n",
      "Onset Detected\n",
      "Frequency:  138.78543\n",
      "C#3\n",
      "Onset Detected\n",
      "Frequency:  132.41151\n",
      "C3\n",
      "Onset Detected\n",
      "Frequency:  386.84155\n",
      "G4\n",
      "* done recording\n"
     ]
    }
   ],
   "source": [
    "p = pyaudio.PyAudio() # object of class pyaudio.PyAudio is instantiated\n",
    "                      # starts PortAudio\n",
    "\n",
    "# open an audio stream\n",
    "stream = p.open(format=FORMAT,\n",
    "                channels=CHANNELS,\n",
    "                rate=RATE,\n",
    "                input=True,\n",
    "                frames_per_buffer=CHUNK)\n",
    "# frames per buffer is the length of the audio buffer\n",
    "\n",
    "# use stream callback\n",
    "print(\"* recording\")\n",
    "\n",
    "squarer = lambda t: t ** 2\n",
    "square = np.vectorize(squarer)\n",
    "\n",
    "data_int = []\n",
    "data_odf = []\n",
    "thresholds = [0]\n",
    "\n",
    "onsets_y = []\n",
    "onsets_x = []\n",
    "alpha = 5\n",
    "beta = 5\n",
    "m = 20\n",
    "RECORD_SECONDS = 10\n",
    "\n",
    "tolerance = 0.3\n",
    "win_s = 1024\n",
    "hop_s = 1024\n",
    "pitch_o = pitch(\"yin\", win_s, hop_s, RATE)\n",
    "pitch_o.set_tolerance(tolerance)\n",
    "\n",
    "for i in range(0, int(RATE / CHUNK * RECORD_SECONDS)): \n",
    "    data = np.frombuffer(stream.read(CHUNK), dtype=np.int16)\n",
    "    data_int = np.concatenate((data_int, data))\n",
    "    data_energy_value = np.sum(square(data))\n",
    "    if i > 0:\n",
    "        data_odf.append(abs(data_energy_value - data_energy_value_previous))\n",
    "    else:\n",
    "        data_odf.append(data_energy_value)\n",
    "    data_energy_value_previous = data_energy_value\n",
    "    if i >= m:\n",
    "        data_odf_previous_m_median = np.median(data_odf[i-m:i])\n",
    "        data_odf_previous_m_mean = np.mean(data_odf[i-m:i])\n",
    "        thresholds.append((beta * data_odf_previous_m_median) + (alpha * data_odf_previous_m_mean))\n",
    "    elif i > 0:\n",
    "        data_odf_previous_m_median = np.median(data_odf[0:i])\n",
    "        data_odf_previous_m_mean = np.mean(data_odf[0:i])\n",
    "        thresholds.append((beta * data_odf_previous_m_median) + (alpha * data_odf_previous_m_mean))\n",
    "    \n",
    "    if i > 1:\n",
    "        if (data_odf[i-1] > data_odf[i] and data_odf[i-1] > data_odf[i-2]):\n",
    "            if (data_odf[i-1] > thresholds[i-1]):\n",
    "                onsets_y.append(data_odf[i-1])\n",
    "                onsets_x.append(i-1)\n",
    "                print(\"Onset Detected\")\n",
    "                float_data = data.astype(np.float32) \n",
    "                pitch_1 = pitch_o(float_data)[0]\n",
    "                print(\"Frequency: \", pitch_1)\n",
    "                if pitch_1 > 0:\n",
    "                    note = pitch_to_note(pitch_1)\n",
    "                else:\n",
    "                    note = None\n",
    "                print(note)\n",
    "\n",
    "print(\"* done recording\")\n",
    "\n",
    "stream.stop_stream()\n",
    "stream.close()\n",
    "p.terminate()"
   ]
  },
  {
   "cell_type": "code",
   "execution_count": 22,
   "metadata": {},
   "outputs": [
    {
     "data": {
      "image/png": "[encoded data removed]",
      "text/plain": [
       "<Figure size 432x288 with 1 Axes>"
      ]
     },
     "metadata": {
      "needs_background": "light"
     },
     "output_type": "display_data"
    }
   ],
   "source": [
    "x_1 = np.arange(0, 430, 1)\n",
    "x_2 = np.arange(0, 430, 1)\n",
    "plt.clf()\n",
    "plt.plot(x_1, thresholds[::1])\n",
    "plt.plot(x_2, data_odf[::1])\n",
    "plt.plot(onsets_x, onsets_y, 'o', color='black');\n",
    "plt.show()"
   ]
  },
  {
   "cell_type": "code",
   "execution_count": null,
   "metadata": {},
   "outputs": [],
   "source": [
    "x_1 = np.arange(0, 430, 1)\n",
    "x_2 = np.arange(0, 430, 1)\n",
    "plt.clf()\n",
    "plt.plot(x_1, float_data[::1])\n",
    "plt.plot(x_2, data_odf[::1])\n",
    "plt.plot(onsets_x, onsets_y, 'o', color='black');\n",
    "plt.show()"
   ]
  }
 ],
 "metadata": {
  "kernelspec": {
   "display_name": "Python (music)",
   "language": "python",
   "name": "music"
  },
  "language_info": {
   "codemirror_mode": {
    "name": "ipython",
    "version": 3
   },
   "file_extension": ".py",
   "mimetype": "text/x-python",
   "name": "python",
   "nbconvert_exporter": "python",
   "pygments_lexer": "ipython3",
   "version": "3.6.6"
  }
 },
 "nbformat": 4,
 "nbformat_minor": 2
}
